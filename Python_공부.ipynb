{
  "nbformat": 4,
  "nbformat_minor": 0,
  "metadata": {
    "colab": {
      "provenance": [],
      "authorship_tag": "ABX9TyN2L2i6hcd1pb83J9k/d5nY"
    },
    "kernelspec": {
      "name": "python3",
      "display_name": "Python 3"
    },
    "language_info": {
      "name": "python"
    }
  },
  "cells": [
    {
      "cell_type": "code",
      "source": [
        "# 변수와 자료형\n",
        "\n",
        "name = \"YunSeek\"\n",
        "age = 32\n",
        "height = 174\n",
        "is_ai_developer = True\n",
        "\n",
        "print(name, age, height, is_ai_developer)\n",
        "\n",
        "# 조건문\n",
        "if age > 20:\n",
        "  print(\"성인입니다.\")\n",
        "else:\n",
        "  print(\"미성년자입니다.\")\n",
        "\n",
        "# 반복문\n",
        "for i in range(5):\n",
        "  print(\"반복:\" , i)\n",
        "\n",
        "# while\n",
        "count = 0\n",
        "while count < 3:\n",
        "  print(\"while 반복:\", count)\n",
        "  count += 1\n"
      ],
      "metadata": {
        "colab": {
          "base_uri": "https://localhost:8080/"
        },
        "id": "c3Fy1u8SEx3p",
        "outputId": "b244b2e6-e42a-491a-f9bf-d1d83beef014"
      },
      "execution_count": null,
      "outputs": [
        {
          "output_type": "stream",
          "name": "stdout",
          "text": [
            "YunSeek 29 174 True\n",
            "성인입니다.\n",
            "반복: 0\n",
            "반복: 1\n",
            "반복: 2\n",
            "반복: 3\n",
            "반복: 4\n",
            "while 반복: 0\n",
            "while 반복: 1\n",
            "while 반복: 2\n"
          ]
        }
      ]
    },
    {
      "cell_type": "code",
      "source": [
        "fruits = [\"apple\", \"banana\", \"cherry\"]\n",
        "print(fruits[0])\n",
        "fruits.append(\"orange\")\n",
        "print(fruits)\n",
        "fruits.remove(\"banana\")\n",
        "print(fruits)\n",
        "\n",
        "squares = [x**2 for x in range(5)]\n",
        "print(squares)\n",
        "\n",
        "words = [\"apple\", \"ai\", \"banana\", \"go\", \"grape\"]\n",
        "ansewr = [word for word in words if len(word) >= 5]\n",
        "print(ansewr)"
      ],
      "metadata": {
        "colab": {
          "base_uri": "https://localhost:8080/"
        },
        "id": "mxlV-5wdHd2I",
        "outputId": "ca09dfd8-03d3-4832-e25a-47019efa62cc"
      },
      "execution_count": null,
      "outputs": [
        {
          "output_type": "stream",
          "name": "stdout",
          "text": [
            "apple\n",
            "['apple', 'banana', 'cherry', 'orange']\n",
            "['apple', 'cherry', 'orange']\n",
            "[0, 1, 4, 9, 16]\n",
            "['apple', 'banana', 'grape']\n"
          ]
        }
      ]
    },
    {
      "cell_type": "code",
      "source": [
        "user = {\n",
        "    \"name\":\"YunSeek\",\n",
        "    \"age\":32,\n",
        "    \"is_dev\":True\n",
        "}\n",
        "\n",
        "print(user[\"name\"])\n",
        "user[\"email\"] = \"yun@ai.com\"\n",
        "print(user.get(\"email\"))"
      ],
      "metadata": {
        "colab": {
          "base_uri": "https://localhost:8080/"
        },
        "id": "MF8VhCtAJi4O",
        "outputId": "99baf731-6f9a-486e-d667-b4a34cadfda8"
      },
      "execution_count": null,
      "outputs": [
        {
          "output_type": "stream",
          "name": "stdout",
          "text": [
            "YunSeek\n",
            "yun@ai.com\n"
          ]
        }
      ]
    },
    {
      "cell_type": "code",
      "source": [
        "position = (100, 200)\n",
        "print(position[0])\n",
        "# position[0] = 300"
      ],
      "metadata": {
        "colab": {
          "base_uri": "https://localhost:8080/",
          "height": 202
        },
        "id": "F_wAYjYyKPPw",
        "outputId": "86b9c734-a7df-4137-81a1-06580e163ba1"
      },
      "execution_count": null,
      "outputs": [
        {
          "output_type": "stream",
          "name": "stdout",
          "text": [
            "100\n"
          ]
        },
        {
          "output_type": "error",
          "ename": "TypeError",
          "evalue": "'tuple' object does not support item assignment",
          "traceback": [
            "\u001b[0;31m---------------------------------------------------------------------------\u001b[0m",
            "\u001b[0;31mTypeError\u001b[0m                                 Traceback (most recent call last)",
            "\u001b[0;32m<ipython-input-11-3cdaf61d176f>\u001b[0m in \u001b[0;36m<cell line: 0>\u001b[0;34m()\u001b[0m\n\u001b[1;32m      1\u001b[0m \u001b[0mposition\u001b[0m \u001b[0;34m=\u001b[0m \u001b[0;34m(\u001b[0m\u001b[0;36m100\u001b[0m\u001b[0;34m,\u001b[0m \u001b[0;36m200\u001b[0m\u001b[0;34m)\u001b[0m\u001b[0;34m\u001b[0m\u001b[0;34m\u001b[0m\u001b[0m\n\u001b[1;32m      2\u001b[0m \u001b[0mprint\u001b[0m\u001b[0;34m(\u001b[0m\u001b[0mposition\u001b[0m\u001b[0;34m[\u001b[0m\u001b[0;36m0\u001b[0m\u001b[0;34m]\u001b[0m\u001b[0;34m)\u001b[0m\u001b[0;34m\u001b[0m\u001b[0;34m\u001b[0m\u001b[0m\n\u001b[0;32m----> 3\u001b[0;31m \u001b[0mposition\u001b[0m\u001b[0;34m[\u001b[0m\u001b[0;36m0\u001b[0m\u001b[0;34m]\u001b[0m \u001b[0;34m=\u001b[0m \u001b[0;36m300\u001b[0m\u001b[0;34m\u001b[0m\u001b[0;34m\u001b[0m\u001b[0m\n\u001b[0m",
            "\u001b[0;31mTypeError\u001b[0m: 'tuple' object does not support item assignment"
          ]
        }
      ]
    },
    {
      "cell_type": "code",
      "source": [
        "a = {1,2,3}\n",
        "b ={2,3,4}\n",
        "print(a & b)\n",
        "print(a | b)\n",
        "print(a-b)"
      ],
      "metadata": {
        "colab": {
          "base_uri": "https://localhost:8080/"
        },
        "id": "5jRK3d6VK_pN",
        "outputId": "229f95cb-3b03-4178-ecc7-ce3ab972a962"
      },
      "execution_count": null,
      "outputs": [
        {
          "output_type": "stream",
          "name": "stdout",
          "text": [
            "{2, 3}\n",
            "{1, 2, 3, 4}\n",
            "{1}\n"
          ]
        }
      ]
    },
    {
      "cell_type": "code",
      "source": [
        "# 1. 이름 리스트에서 'Tom'을 제거하고, 'Lisa' 추가하기\n",
        "names = [\"John\", \"Tom\", \"Jane\"]\n",
        "# 여기에 코드 작성\n",
        "names.remove(\"Tom\")\n",
        "names.append(\"Lisa\")\n",
        "print(names)\n",
        "\n",
        "# 2. 학생 정보 딕셔너리에 'score': 95 추가하고 출력하기\n",
        "student = {\"name\": \"YunSeek\", \"age\": 32}\n",
        "# 여기에 코드 작성\n",
        "student[\"score\"] = 95\n",
        "print(student)\n",
        "\n",
        "my_dict = {\"이름\": \"YunSeek\"}\n",
        "\n",
        "# 다른 딕셔너리 추가\n",
        "another_dict = {\"나이\": 32, \"직업\": \"개발자\"}\n",
        "my_dict.update(another_dict)\n",
        "\n",
        "print(my_dict)\n",
        "\n",
        "# 키-값 쌍의 리스트 추가\n",
        "new_data = [(\"도시\", \"서울\"), (\"취미\", \"코딩\")]\n",
        "my_dict.update(new_data)\n",
        "\n",
        "print(my_dict)\n",
        "\n",
        "# 3. 집합 a = {1, 2, 3}, b = {2, 4, 6}의 교집합과 합집합 출력\n",
        "# 여기에 코드 작성\n",
        "a = {1, 2, 3}\n",
        "b = {2, 4, 6}\n",
        "print(a & b)\n",
        "print(a | b)\n"
      ],
      "metadata": {
        "colab": {
          "base_uri": "https://localhost:8080/"
        },
        "id": "3ug3TEFSLktW",
        "outputId": "54c5ca1d-e55a-4d83-8860-387aea11b42c"
      },
      "execution_count": null,
      "outputs": [
        {
          "output_type": "stream",
          "name": "stdout",
          "text": [
            "['John', 'Jane', 'Lisa']\n",
            "{'name': 'YunSeek', 'age': 32, 'score': 95}\n",
            "{'이름': 'YunSeek', '나이': 32, '직업': '개발자'}\n",
            "{'이름': 'YunSeek', '나이': 32, '직업': '개발자', '도시': '서울', '취미': '코딩'}\n",
            "{2}\n",
            "{1, 2, 3, 4, 6}\n"
          ]
        }
      ]
    },
    {
      "cell_type": "code",
      "source": [
        "def add(a, b):\n",
        "  return a + b\n",
        "\n",
        "result = add(3, 5)\n",
        "print(result)\n",
        "\n",
        "def greeting(name):\n",
        "  return f\"Hello, {name}\"\n",
        "\n",
        "print(greeting(\"YunSeek\"))\n",
        "\n",
        "def say(message=\"안녕!\"):\n",
        "  print(message)\n",
        "\n",
        "say()\n",
        "say(\"반가워!\")"
      ],
      "metadata": {
        "colab": {
          "base_uri": "https://localhost:8080/"
        },
        "id": "zyNWuPcYM3WO",
        "outputId": "32f3c4d0-e924-4a1b-fffb-ba0798594c42"
      },
      "execution_count": null,
      "outputs": [
        {
          "output_type": "stream",
          "name": "stdout",
          "text": [
            "8\n",
            "Hello, YunSeek\n",
            "안녕!\n",
            "반가워!\n"
          ]
        }
      ]
    },
    {
      "cell_type": "code",
      "source": [
        "def introduce(name, age, job=\"AI 개발자\"):\n",
        "  print(f\"{name} ({age}) - {job}\")\n",
        "\n",
        "introduce(\"YunSeek\", 32)\n",
        "introduce(\"Lisa\", 30, \"디자이너\")\n",
        "\n",
        "square = lambda x : x ** 2\n",
        "print(square(4))"
      ],
      "metadata": {
        "colab": {
          "base_uri": "https://localhost:8080/"
        },
        "id": "6cyOw_dANVpl",
        "outputId": "70073b7e-7117-4965-d9f8-c89cbd229518"
      },
      "execution_count": null,
      "outputs": [
        {
          "output_type": "stream",
          "name": "stdout",
          "text": [
            "YunSeek (32) - AI 개발자\n",
            "Lisa (30) - 디자이너\n",
            "16\n"
          ]
        }
      ]
    },
    {
      "cell_type": "code",
      "source": [
        "def introduce(name, age):\n",
        "  return f\"{name}님은 {age}세입니다.\"\n",
        "\n",
        "print(introduce(\"YunSeek\", 32))\n",
        "\n",
        "def absolute(num):\n",
        "  return abs(num)\n",
        "\n",
        "def filter_even(numbers):\n",
        "  return [num for num in numbers if num % 2 == 0]\n",
        "\n",
        "print(absolute(-3))\n",
        "print(filter_even([1, 2, 3, 4, 5, 6, 7, 8, 9, 10]))"
      ],
      "metadata": {
        "colab": {
          "base_uri": "https://localhost:8080/"
        },
        "id": "_fy1f2wEOGJE",
        "outputId": "162fe31d-7492-4fcf-804e-4802f8e1bf80"
      },
      "execution_count": null,
      "outputs": [
        {
          "output_type": "stream",
          "name": "stdout",
          "text": [
            "YunSeek님은 32세입니다.\n",
            "3\n",
            "[2, 4, 6, 8, 10]\n"
          ]
        }
      ]
    },
    {
      "cell_type": "code",
      "source": [
        "class Person:\n",
        "  def __init__(self, name, age):\n",
        "    self.name = name\n",
        "    self.age = age\n",
        "\n",
        "  def introduce(self):\n",
        "    print(f\"안녕하세요, 저는 {self.name}, {self.age}살입니다.\")\n",
        "\n",
        "p1 = Person(\"YunSeek\", 32)\n",
        "p1.introduce()\n",
        "\n",
        "class Dog:\n",
        "  def __init__(self, name, breed):\n",
        "    self.name = name\n",
        "    self.breed = breed\n",
        "    print(f\"이름: {name}, 견종: {breed}\")\n",
        "\n",
        "  def bark(self):\n",
        "    print(\"멍멍!\")\n",
        "\n",
        "dog = Dog(\"Coco\", \"Poodle\")\n",
        "dog.bark()\n",
        "\n",
        "class Calculator:\n",
        "  def __init__(self, num1, num2):\n",
        "    self.num1 = num1\n",
        "    self.num2 = num2\n",
        "\n",
        "  def add(self):\n",
        "    return self.num1 + self.num2\n",
        "\n",
        "  def sub(self):\n",
        "    return self.num1 - self.num2\n",
        "\n",
        "  def mul(self):\n",
        "    return self.num1 * self.num2\n",
        "\n",
        "  def div(self):\n",
        "    return self.num1 / self.num2\n",
        "\n",
        "cal = Calculator(10, 20)\n",
        "print(cal.add())"
      ],
      "metadata": {
        "colab": {
          "base_uri": "https://localhost:8080/"
        },
        "id": "az1db1CXP6IJ",
        "outputId": "f078f0f1-cb81-484d-f116-5b83ee98b167"
      },
      "execution_count": null,
      "outputs": [
        {
          "output_type": "stream",
          "name": "stdout",
          "text": [
            "안녕하세요, 저는 YunSeek, 32살입니다.\n",
            "이름: Coco, 견종: Poodle\n",
            "멍멍!\n",
            "30\n"
          ]
        }
      ]
    },
    {
      "cell_type": "code",
      "source": [
        "class Person:\n",
        "  def __init__(self) -> None:\n",
        "    pass\n",
        "  def introduce(self):\n",
        "    print(\"사람입니다.\")\n",
        "\n",
        "class Student(Person):\n",
        "  def __init__(self) -> None:\n",
        "    self.__private = \"비밀\"\n",
        "  def introduce(self):\n",
        "    print(\"학생입니다.\")\n",
        "  def __str__(self):\n",
        "    return \"홍길동, 20세 학생\"\n",
        "\n",
        "  def get_secret(self):\n",
        "    return self.__private\n",
        "\n",
        "\n",
        "student = Student()\n",
        "student.introduce()\n",
        "print(student)\n",
        "# print(student.__private)\n",
        "print(student.get_secret())"
      ],
      "metadata": {
        "colab": {
          "base_uri": "https://localhost:8080/"
        },
        "id": "BRIa0i1oUAyZ",
        "outputId": "548badf7-acc8-47a8-f231-7a6f90005a45"
      },
      "execution_count": null,
      "outputs": [
        {
          "output_type": "stream",
          "name": "stdout",
          "text": [
            "학생입니다.\n",
            "홍길동, 20세 학생\n",
            "비밀\n"
          ]
        }
      ]
    },
    {
      "cell_type": "code",
      "source": [
        "import pandas as pd\n",
        "\n",
        "df = pd.read_csv(\"https://raw.githubusercontent.com/mwaskom/seaborn-data/master/iris.csv\")\n",
        "\n",
        "print(df.head())\n",
        "\n",
        "print(df.describe())\n",
        "\n",
        "print(df.columns)\n",
        "\n",
        "print(df['species'].value_counts())\n",
        "\n",
        "print(df[df['petal_length'] > 5.0])\n",
        "\n",
        "print(df.groupby('species')['sepal_width'].mean())\n",
        "\n",
        "print(df[df['species'] == 'setosa'].head(10))"
      ],
      "metadata": {
        "colab": {
          "base_uri": "https://localhost:8080/"
        },
        "id": "hd6XsS6JXL0l",
        "outputId": "cabdf63a-2347-47bd-bf18-6343781586e6"
      },
      "execution_count": 5,
      "outputs": [
        {
          "output_type": "stream",
          "name": "stdout",
          "text": [
            "   sepal_length  sepal_width  petal_length  petal_width species\n",
            "0           5.1          3.5           1.4          0.2  setosa\n",
            "1           4.9          3.0           1.4          0.2  setosa\n",
            "2           4.7          3.2           1.3          0.2  setosa\n",
            "3           4.6          3.1           1.5          0.2  setosa\n",
            "4           5.0          3.6           1.4          0.2  setosa\n",
            "       sepal_length  sepal_width  petal_length  petal_width\n",
            "count    150.000000   150.000000    150.000000   150.000000\n",
            "mean       5.843333     3.057333      3.758000     1.199333\n",
            "std        0.828066     0.435866      1.765298     0.762238\n",
            "min        4.300000     2.000000      1.000000     0.100000\n",
            "25%        5.100000     2.800000      1.600000     0.300000\n",
            "50%        5.800000     3.000000      4.350000     1.300000\n",
            "75%        6.400000     3.300000      5.100000     1.800000\n",
            "max        7.900000     4.400000      6.900000     2.500000\n",
            "Index(['sepal_length', 'sepal_width', 'petal_length', 'petal_width',\n",
            "       'species'],\n",
            "      dtype='object')\n",
            "species\n",
            "setosa        50\n",
            "versicolor    50\n",
            "virginica     50\n",
            "Name: count, dtype: int64\n",
            "     sepal_length  sepal_width  petal_length  petal_width     species\n",
            "83            6.0          2.7           5.1          1.6  versicolor\n",
            "100           6.3          3.3           6.0          2.5   virginica\n",
            "101           5.8          2.7           5.1          1.9   virginica\n",
            "102           7.1          3.0           5.9          2.1   virginica\n",
            "103           6.3          2.9           5.6          1.8   virginica\n",
            "104           6.5          3.0           5.8          2.2   virginica\n",
            "105           7.6          3.0           6.6          2.1   virginica\n",
            "107           7.3          2.9           6.3          1.8   virginica\n",
            "108           6.7          2.5           5.8          1.8   virginica\n",
            "109           7.2          3.6           6.1          2.5   virginica\n",
            "110           6.5          3.2           5.1          2.0   virginica\n",
            "111           6.4          2.7           5.3          1.9   virginica\n",
            "112           6.8          3.0           5.5          2.1   virginica\n",
            "114           5.8          2.8           5.1          2.4   virginica\n",
            "115           6.4          3.2           5.3          2.3   virginica\n",
            "116           6.5          3.0           5.5          1.8   virginica\n",
            "117           7.7          3.8           6.7          2.2   virginica\n",
            "118           7.7          2.6           6.9          2.3   virginica\n",
            "120           6.9          3.2           5.7          2.3   virginica\n",
            "122           7.7          2.8           6.7          2.0   virginica\n",
            "124           6.7          3.3           5.7          2.1   virginica\n",
            "125           7.2          3.2           6.0          1.8   virginica\n",
            "128           6.4          2.8           5.6          2.1   virginica\n",
            "129           7.2          3.0           5.8          1.6   virginica\n",
            "130           7.4          2.8           6.1          1.9   virginica\n",
            "131           7.9          3.8           6.4          2.0   virginica\n",
            "132           6.4          2.8           5.6          2.2   virginica\n",
            "133           6.3          2.8           5.1          1.5   virginica\n",
            "134           6.1          2.6           5.6          1.4   virginica\n",
            "135           7.7          3.0           6.1          2.3   virginica\n",
            "136           6.3          3.4           5.6          2.4   virginica\n",
            "137           6.4          3.1           5.5          1.8   virginica\n",
            "139           6.9          3.1           5.4          2.1   virginica\n",
            "140           6.7          3.1           5.6          2.4   virginica\n",
            "141           6.9          3.1           5.1          2.3   virginica\n",
            "142           5.8          2.7           5.1          1.9   virginica\n",
            "143           6.8          3.2           5.9          2.3   virginica\n",
            "144           6.7          3.3           5.7          2.5   virginica\n",
            "145           6.7          3.0           5.2          2.3   virginica\n",
            "147           6.5          3.0           5.2          2.0   virginica\n",
            "148           6.2          3.4           5.4          2.3   virginica\n",
            "149           5.9          3.0           5.1          1.8   virginica\n",
            "species\n",
            "setosa        3.428\n",
            "versicolor    2.770\n",
            "virginica     2.974\n",
            "Name: sepal_width, dtype: float64\n",
            "   sepal_length  sepal_width  petal_length  petal_width species\n",
            "0           5.1          3.5           1.4          0.2  setosa\n",
            "1           4.9          3.0           1.4          0.2  setosa\n",
            "2           4.7          3.2           1.3          0.2  setosa\n",
            "3           4.6          3.1           1.5          0.2  setosa\n",
            "4           5.0          3.6           1.4          0.2  setosa\n",
            "5           5.4          3.9           1.7          0.4  setosa\n",
            "6           4.6          3.4           1.4          0.3  setosa\n",
            "7           5.0          3.4           1.5          0.2  setosa\n",
            "8           4.4          2.9           1.4          0.2  setosa\n",
            "9           4.9          3.1           1.5          0.1  setosa\n"
          ]
        }
      ]
    },
    {
      "cell_type": "code",
      "source": [],
      "metadata": {
        "id": "RZ9bVMsFHNd9"
      },
      "execution_count": null,
      "outputs": []
    }
  ]
}